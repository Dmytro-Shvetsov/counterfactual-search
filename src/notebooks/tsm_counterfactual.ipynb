{
 "cells": [
  {
   "cell_type": "code",
   "execution_count": 6,
   "id": "6b735602",
   "metadata": {},
   "outputs": [
    {
     "name": "stdout",
     "output_type": "stream",
     "text": [
      "/gpfs/space/home/dmytrosh/counterfactual-search\n"
     ]
    }
   ],
   "source": [
    "%cd ../..\n",
    "%load_ext autoreload\n",
    "%autoreload 2"
   ]
  },
  {
   "cell_type": "code",
   "execution_count": 3,
   "id": "7c957b53",
   "metadata": {},
   "outputs": [
    {
     "name": "stdout",
     "output_type": "stream",
     "text": [
      "Sun Oct 15 14:00:09 2023       \r\n",
      "+-----------------------------------------------------------------------------+\r\n",
      "| NVIDIA-SMI 460.106.00   Driver Version: 460.106.00   CUDA Version: 11.2     |\r\n",
      "|-------------------------------+----------------------+----------------------+\r\n",
      "| GPU  Name        Persistence-M| Bus-Id        Disp.A | Volatile Uncorr. ECC |\r\n",
      "| Fan  Temp  Perf  Pwr:Usage/Cap|         Memory-Usage | GPU-Util  Compute M. |\r\n",
      "|                               |                      |               MIG M. |\r\n",
      "|===============================+======================+======================|\r\n",
      "|   0  A100-PCIE-40GB      Off  | 00000000:61:00.0 Off |                    0 |\r\n",
      "| N/A   69C    P0   235W / 250W |  35784MiB / 40536MiB |     98%      Default |\r\n",
      "|                               |                      |             Disabled |\r\n",
      "+-------------------------------+----------------------+----------------------+\r\n",
      "                                                                               \r\n",
      "+-----------------------------------------------------------------------------+\r\n",
      "| Processes:                                                                  |\r\n",
      "|  GPU   GI   CI        PID   Type   Process name                  GPU Memory |\r\n",
      "|        ID   ID                                                   Usage      |\r\n",
      "|=============================================================================|\r\n",
      "|    0   N/A  N/A    111013      C   python                          35781MiB |\r\n",
      "+-----------------------------------------------------------------------------+\r\n"
     ]
    }
   ],
   "source": [
    "!nvidia-smi"
   ]
  },
  {
   "cell_type": "code",
   "execution_count": 7,
   "id": "2b258aff",
   "metadata": {},
   "outputs": [
    {
     "name": "stderr",
     "output_type": "stream",
     "text": [
      "/gpfs/space/home/dmytrosh/counterfactual-search/venv/lib/python3.9/site-packages/torchvision/models/_utils.py:208: UserWarning: The parameter 'pretrained' is deprecated since 0.13 and may be removed in the future, please use 'weights' instead.\n",
      "  warnings.warn(\n",
      "/gpfs/space/home/dmytrosh/counterfactual-search/venv/lib/python3.9/site-packages/torchvision/models/_utils.py:223: UserWarning: Arguments other than a weight enum or `None` for 'weights' are deprecated since 0.13 and may be removed in the future. The current behavior is equivalent to passing `weights=None`.\n",
      "  warnings.warn(msg)\n"
     ]
    },
    {
     "name": "stdout",
     "output_type": "stream",
     "text": [
      "Restored the classifier from: training_logs/classification/resnet18-October-14-2023_01+03PM-af13228-tsm_synth_r18/checkpoints/checkpoint_55.pth\n"
     ]
    },
    {
     "name": "stderr",
     "output_type": "stream",
     "text": [
      "[2023-10-15 15:27:09|INFO] - ================ Session (Sun Oct 15 15:27:09 2023) ================\n",
      "[2023-10-15 15:27:09|INFO] - Logging directory: training_logs/counterfactual/counterfactual_lungs_cgan-October-15-2023_03+27PM-af13228-tsm_synth_r18_e2e\n",
      "[2023-10-15 15:27:09|INFO] - Using model: CounterfactualCGAN\n"
     ]
    }
   ],
   "source": [
    "import os\n",
    "import random\n",
    "import shutil\n",
    "\n",
    "import numpy as np\n",
    "import torch\n",
    "import yaml\n",
    "from easydict import EasyDict as edict\n",
    "\n",
    "from src.models import build_model\n",
    "from src.trainers import build_trainer\n",
    "\n",
    "\n",
    "def seed_everything(seed: int):\n",
    "    random.seed(seed)\n",
    "    os.environ['PYTHONHASHSEED'] = str(seed)\n",
    "    np.random.seed(seed)\n",
    "    torch.manual_seed(seed)\n",
    "    torch.cuda.manual_seed(seed)\n",
    "    torch.backends.cudnn.deterministic = True\n",
    "    torch.backends.cudnn.benchmark = True\n",
    "\n",
    "config_path = 'configs/counterfactual/tsm_synthetic.yaml'\n",
    "\n",
    "with open(config_path) as fid:\n",
    "    opt = yaml.safe_load(fid)\n",
    "    opt = edict(opt)\n",
    "seed_everything(opt.seed)\n",
    "\n",
    "model = build_model(opt.task_name, opt=opt.model, img_size=opt.dataset.img_size)\n",
    "trainer = build_trainer(opt.task_name, opt, model, None)"
   ]
  },
  {
   "cell_type": "code",
   "execution_count": 135,
   "id": "08b36bf1",
   "metadata": {},
   "outputs": [
    {
     "name": "stdout",
     "output_type": "stream",
     "text": [
      "Instantiated training dataset for number of samples: 115394\n",
      "Instantiated validation dataset for number of samples: 30683\n"
     ]
    },
    {
     "name": "stderr",
     "output_type": "stream",
     "text": [
      "Precomputing posterior probabilities:  86%|████████████████████████████████████▏     | 6205/7213 [03:19<00:13, 77.17it/s]"
     ]
    },
    {
     "name": "stdout",
     "output_type": "stream",
     "text": [
      "Unable to augment synthetic anomalies for scan s0377.nii.gz. Index - 191\n"
     ]
    },
    {
     "name": "stderr",
     "output_type": "stream",
     "text": [
      "Precomputing posterior probabilities: 100%|██████████████████████████████████████████| 7213/7213 [03:34<00:00, 33.59it/s]\n",
      "[2023-10-15 13:18:14|INFO] - Precomputed condition labels for sampling. Num positive conditions: 23218\n"
     ]
    },
    {
     "name": "stdout",
     "output_type": "stream",
     "text": [
      "Instantiated training dataset for number of samples: 115394\n",
      "Instantiated validation dataset for number of samples: 30683\n"
     ]
    }
   ],
   "source": [
    "(train_loader, val_loader), cf_labels = trainer.get_dataloaders(ret_counterfactual_labels=True)"
   ]
  },
  {
   "cell_type": "code",
   "execution_count": 139,
   "id": "98a0c5b3",
   "metadata": {},
   "outputs": [
    {
     "data": {
      "text/plain": [
       "23218"
      ]
     },
     "execution_count": 139,
     "metadata": {},
     "output_type": "execute_result"
    }
   ],
   "source": [
    "cf_labels.sum()"
   ]
  },
  {
   "cell_type": "code",
   "execution_count": 138,
   "id": "231e057c",
   "metadata": {},
   "outputs": [
    {
     "name": "stderr",
     "output_type": "stream",
     "text": [
      "\r",
      "Validation epoch: 0:   0%|                                                                      | 0/1918 [00:00<?, ?it/s]"
     ]
    },
    {
     "name": "stdout",
     "output_type": "stream",
     "text": [
      "tensor(0)\n"
     ]
    },
    {
     "name": "stderr",
     "output_type": "stream",
     "text": [
      "Validation epoch: 0:   0%|                                                              | 2/1918 [00:01<18:41,  1.71it/s]"
     ]
    },
    {
     "name": "stdout",
     "output_type": "stream",
     "text": [
      "tensor(0)\n",
      "tensor(0)\n"
     ]
    },
    {
     "name": "stderr",
     "output_type": "stream",
     "text": [
      "Validation epoch: 0:   0%|▏                                                             | 4/1918 [00:01<09:43,  3.28it/s]"
     ]
    },
    {
     "name": "stdout",
     "output_type": "stream",
     "text": [
      "tensor(0)\n",
      "tensor(0)\n"
     ]
    },
    {
     "name": "stderr",
     "output_type": "stream",
     "text": [
      "Validation epoch: 0:   0%|▏                                                             | 6/1918 [00:02<07:10,  4.44it/s]"
     ]
    },
    {
     "name": "stdout",
     "output_type": "stream",
     "text": [
      "tensor(0)\n",
      "tensor(0)\n"
     ]
    },
    {
     "name": "stderr",
     "output_type": "stream",
     "text": [
      "Validation epoch: 0:   0%|▎                                                             | 8/1918 [00:02<06:10,  5.16it/s]"
     ]
    },
    {
     "name": "stdout",
     "output_type": "stream",
     "text": [
      "tensor(0)\n",
      "tensor(0)\n"
     ]
    },
    {
     "name": "stderr",
     "output_type": "stream",
     "text": [
      "Validation epoch: 0:   1%|▎                                                            | 10/1918 [00:02<05:42,  5.57it/s]"
     ]
    },
    {
     "name": "stdout",
     "output_type": "stream",
     "text": [
      "tensor(1)\n",
      "tensor(12)\n"
     ]
    },
    {
     "name": "stderr",
     "output_type": "stream",
     "text": [
      "Validation epoch: 0:   1%|▍                                                            | 12/1918 [00:03<05:29,  5.78it/s]"
     ]
    },
    {
     "name": "stdout",
     "output_type": "stream",
     "text": [
      "tensor(12)\n",
      "tensor(11)\n"
     ]
    },
    {
     "name": "stderr",
     "output_type": "stream",
     "text": [
      "Validation epoch: 0:   1%|▍                                                            | 14/1918 [00:03<05:23,  5.89it/s]"
     ]
    },
    {
     "name": "stdout",
     "output_type": "stream",
     "text": [
      "tensor(13)\n",
      "tensor(9)\n"
     ]
    },
    {
     "name": "stderr",
     "output_type": "stream",
     "text": [
      "Validation epoch: 0:   1%|▌                                                            | 16/1918 [00:03<05:19,  5.95it/s]"
     ]
    },
    {
     "name": "stdout",
     "output_type": "stream",
     "text": [
      "tensor(2)\n",
      "tensor(0)\n"
     ]
    },
    {
     "name": "stderr",
     "output_type": "stream",
     "text": [
      "Validation epoch: 0:   1%|▌                                                            | 18/1918 [00:04<05:18,  5.96it/s]"
     ]
    },
    {
     "name": "stdout",
     "output_type": "stream",
     "text": [
      "tensor(0)\n",
      "tensor(0)\n"
     ]
    },
    {
     "name": "stderr",
     "output_type": "stream",
     "text": [
      "Validation epoch: 0:   1%|▋                                                            | 20/1918 [00:04<05:18,  5.96it/s]"
     ]
    },
    {
     "name": "stdout",
     "output_type": "stream",
     "text": [
      "tensor(0)\n",
      "tensor(0)\n"
     ]
    },
    {
     "name": "stderr",
     "output_type": "stream",
     "text": [
      "Validation epoch: 0:   1%|▋                                                            | 22/1918 [00:04<05:17,  5.97it/s]"
     ]
    },
    {
     "name": "stdout",
     "output_type": "stream",
     "text": [
      "tensor(0)\n",
      "tensor(0)\n"
     ]
    },
    {
     "name": "stderr",
     "output_type": "stream",
     "text": [
      "Validation epoch: 0:   1%|▊                                                            | 24/1918 [00:05<05:17,  5.97it/s]"
     ]
    },
    {
     "name": "stdout",
     "output_type": "stream",
     "text": [
      "tensor(0)\n",
      "tensor(0)\n"
     ]
    },
    {
     "name": "stderr",
     "output_type": "stream",
     "text": [
      "Validation epoch: 0:   1%|▊                                                            | 26/1918 [00:05<05:16,  5.97it/s]"
     ]
    },
    {
     "name": "stdout",
     "output_type": "stream",
     "text": [
      "tensor(0)\n",
      "tensor(0)\n"
     ]
    },
    {
     "name": "stderr",
     "output_type": "stream",
     "text": [
      "Validation epoch: 0:   1%|▉                                                            | 28/1918 [00:05<05:16,  5.97it/s]"
     ]
    },
    {
     "name": "stdout",
     "output_type": "stream",
     "text": [
      "tensor(0)\n",
      "tensor(0)\n"
     ]
    },
    {
     "name": "stderr",
     "output_type": "stream",
     "text": [
      "Validation epoch: 0:   2%|▉                                                            | 30/1918 [00:06<05:16,  5.96it/s]"
     ]
    },
    {
     "name": "stdout",
     "output_type": "stream",
     "text": [
      "tensor(0)\n",
      "tensor(0)\n"
     ]
    },
    {
     "name": "stderr",
     "output_type": "stream",
     "text": [
      "Validation epoch: 0:   2%|█                                                            | 32/1918 [00:06<06:46,  4.63it/s]"
     ]
    },
    {
     "name": "stdout",
     "output_type": "stream",
     "text": [
      "tensor(0)\n",
      "tensor(0)\n"
     ]
    },
    {
     "name": "stderr",
     "output_type": "stream",
     "text": [
      "Validation epoch: 0:   2%|█                                                            | 34/1918 [00:06<06:00,  5.22it/s]"
     ]
    },
    {
     "name": "stdout",
     "output_type": "stream",
     "text": [
      "tensor(0)\n",
      "tensor(0)\n"
     ]
    },
    {
     "name": "stderr",
     "output_type": "stream",
     "text": [
      "Validation epoch: 0:   2%|█▏                                                           | 36/1918 [00:07<05:37,  5.58it/s]"
     ]
    },
    {
     "name": "stdout",
     "output_type": "stream",
     "text": [
      "tensor(0)\n",
      "tensor(7)\n"
     ]
    },
    {
     "name": "stderr",
     "output_type": "stream",
     "text": [
      "Validation epoch: 0:   2%|█▏                                                           | 38/1918 [00:07<05:26,  5.76it/s]"
     ]
    },
    {
     "name": "stdout",
     "output_type": "stream",
     "text": [
      "tensor(13)\n",
      "tensor(10)\n"
     ]
    },
    {
     "name": "stderr",
     "output_type": "stream",
     "text": [
      "Validation epoch: 0:   2%|█▎                                                           | 40/1918 [00:07<05:19,  5.87it/s]"
     ]
    },
    {
     "name": "stdout",
     "output_type": "stream",
     "text": [
      "tensor(9)\n",
      "tensor(6)\n"
     ]
    },
    {
     "name": "stderr",
     "output_type": "stream",
     "text": [
      "Validation epoch: 0:   2%|█▎                                                           | 42/1918 [00:08<05:16,  5.94it/s]"
     ]
    },
    {
     "name": "stdout",
     "output_type": "stream",
     "text": [
      "tensor(0)\n",
      "tensor(0)\n"
     ]
    },
    {
     "name": "stderr",
     "output_type": "stream",
     "text": [
      "Validation epoch: 0:   2%|█▍                                                           | 44/1918 [00:08<05:15,  5.94it/s]"
     ]
    },
    {
     "name": "stdout",
     "output_type": "stream",
     "text": [
      "tensor(0)\n",
      "tensor(0)\n"
     ]
    },
    {
     "name": "stderr",
     "output_type": "stream",
     "text": [
      "Validation epoch: 0:   2%|█▍                                                           | 46/1918 [00:08<05:13,  5.96it/s]"
     ]
    },
    {
     "name": "stdout",
     "output_type": "stream",
     "text": [
      "tensor(0)\n",
      "tensor(0)\n"
     ]
    },
    {
     "name": "stderr",
     "output_type": "stream",
     "text": [
      "Validation epoch: 0:   3%|█▌                                                           | 48/1918 [00:09<05:13,  5.97it/s]"
     ]
    },
    {
     "name": "stdout",
     "output_type": "stream",
     "text": [
      "tensor(0)\n",
      "tensor(0)\n"
     ]
    },
    {
     "name": "stderr",
     "output_type": "stream",
     "text": [
      "Validation epoch: 0:   3%|█▌                                                           | 50/1918 [00:09<05:14,  5.94it/s]"
     ]
    },
    {
     "name": "stdout",
     "output_type": "stream",
     "text": [
      "tensor(0)\n",
      "tensor(0)\n"
     ]
    },
    {
     "name": "stderr",
     "output_type": "stream",
     "text": [
      "Validation epoch: 0:   3%|█▋                                                           | 52/1918 [00:09<05:13,  5.95it/s]"
     ]
    },
    {
     "name": "stdout",
     "output_type": "stream",
     "text": [
      "tensor(0)\n",
      "tensor(0)\n"
     ]
    },
    {
     "name": "stderr",
     "output_type": "stream",
     "text": [
      "Validation epoch: 0:   3%|█▋                                                           | 54/1918 [00:10<05:12,  5.96it/s]"
     ]
    },
    {
     "name": "stdout",
     "output_type": "stream",
     "text": [
      "tensor(0)\n",
      "tensor(0)\n"
     ]
    },
    {
     "name": "stderr",
     "output_type": "stream",
     "text": [
      "Validation epoch: 0:   3%|█▊                                                           | 56/1918 [00:10<05:11,  5.97it/s]"
     ]
    },
    {
     "name": "stdout",
     "output_type": "stream",
     "text": [
      "tensor(0)\n",
      "tensor(0)\n"
     ]
    },
    {
     "name": "stderr",
     "output_type": "stream",
     "text": [
      "Validation epoch: 0:   3%|█▊                                                           | 58/1918 [00:10<05:11,  5.96it/s]"
     ]
    },
    {
     "name": "stdout",
     "output_type": "stream",
     "text": [
      "tensor(0)\n",
      "tensor(0)\n"
     ]
    },
    {
     "name": "stderr",
     "output_type": "stream",
     "text": [
      "Validation epoch: 0:   3%|█▉                                                           | 60/1918 [00:11<05:11,  5.97it/s]"
     ]
    },
    {
     "name": "stdout",
     "output_type": "stream",
     "text": [
      "tensor(0)\n",
      "tensor(0)\n"
     ]
    },
    {
     "name": "stderr",
     "output_type": "stream",
     "text": [
      "Validation epoch: 0:   3%|█▉                                                           | 62/1918 [00:11<06:39,  4.64it/s]"
     ]
    },
    {
     "name": "stdout",
     "output_type": "stream",
     "text": [
      "tensor(0)\n",
      "tensor(5)\n"
     ]
    },
    {
     "name": "stderr",
     "output_type": "stream",
     "text": [
      "Validation epoch: 0:   3%|██                                                           | 64/1918 [00:12<05:54,  5.23it/s]"
     ]
    },
    {
     "name": "stdout",
     "output_type": "stream",
     "text": [
      "tensor(13)\n",
      "tensor(12)\n"
     ]
    },
    {
     "name": "stderr",
     "output_type": "stream",
     "text": [
      "Validation epoch: 0:   3%|██                                                           | 66/1918 [00:12<05:31,  5.58it/s]"
     ]
    },
    {
     "name": "stdout",
     "output_type": "stream",
     "text": [
      "tensor(11)\n",
      "tensor(14)\n"
     ]
    },
    {
     "name": "stderr",
     "output_type": "stream",
     "text": [
      "Validation epoch: 0:   4%|██▏                                                          | 68/1918 [00:12<05:20,  5.77it/s]"
     ]
    },
    {
     "name": "stdout",
     "output_type": "stream",
     "text": [
      "tensor(12)\n",
      "tensor(7)\n"
     ]
    },
    {
     "name": "stderr",
     "output_type": "stream",
     "text": [
      "Validation epoch: 0:   4%|██▏                                                          | 70/1918 [00:13<05:14,  5.87it/s]"
     ]
    },
    {
     "name": "stdout",
     "output_type": "stream",
     "text": [
      "tensor(0)\n",
      "tensor(0)\n"
     ]
    },
    {
     "name": "stderr",
     "output_type": "stream",
     "text": [
      "Validation epoch: 0:   4%|██▎                                                          | 72/1918 [00:13<05:12,  5.91it/s]"
     ]
    },
    {
     "name": "stdout",
     "output_type": "stream",
     "text": [
      "tensor(0)\n",
      "tensor(0)\n"
     ]
    },
    {
     "name": "stderr",
     "output_type": "stream",
     "text": [
      "Validation epoch: 0:   4%|██▎                                                          | 74/1918 [00:13<05:10,  5.93it/s]"
     ]
    },
    {
     "name": "stdout",
     "output_type": "stream",
     "text": [
      "tensor(0)\n",
      "tensor(0)\n"
     ]
    },
    {
     "name": "stderr",
     "output_type": "stream",
     "text": [
      "Validation epoch: 0:   4%|██▍                                                          | 76/1918 [00:14<05:09,  5.95it/s]"
     ]
    },
    {
     "name": "stdout",
     "output_type": "stream",
     "text": [
      "tensor(0)\n",
      "tensor(0)\n"
     ]
    },
    {
     "name": "stderr",
     "output_type": "stream",
     "text": [
      "Validation epoch: 0:   4%|██▍                                                          | 78/1918 [00:14<05:09,  5.95it/s]"
     ]
    },
    {
     "name": "stdout",
     "output_type": "stream",
     "text": [
      "tensor(0)\n",
      "tensor(0)\n"
     ]
    },
    {
     "name": "stderr",
     "output_type": "stream",
     "text": [
      "Validation epoch: 0:   4%|██▌                                                          | 80/1918 [00:14<05:09,  5.94it/s]"
     ]
    },
    {
     "name": "stdout",
     "output_type": "stream",
     "text": [
      "tensor(0)\n",
      "tensor(0)\n"
     ]
    },
    {
     "name": "stderr",
     "output_type": "stream",
     "text": [
      "Validation epoch: 0:   4%|██▌                                                          | 82/1918 [00:15<05:08,  5.95it/s]"
     ]
    },
    {
     "name": "stdout",
     "output_type": "stream",
     "text": [
      "tensor(0)\n",
      "tensor(0)\n"
     ]
    },
    {
     "name": "stderr",
     "output_type": "stream",
     "text": [
      "Validation epoch: 0:   4%|██▋                                                          | 84/1918 [00:15<05:08,  5.94it/s]"
     ]
    },
    {
     "name": "stdout",
     "output_type": "stream",
     "text": [
      "tensor(0)\n",
      "tensor(1)\n"
     ]
    },
    {
     "name": "stderr",
     "output_type": "stream",
     "text": [
      "Validation epoch: 0:   4%|██▋                                                          | 86/1918 [00:15<05:08,  5.93it/s]"
     ]
    },
    {
     "name": "stdout",
     "output_type": "stream",
     "text": [
      "tensor(13)\n",
      "tensor(15)\n"
     ]
    },
    {
     "name": "stderr",
     "output_type": "stream",
     "text": [
      "Validation epoch: 0:   5%|██▊                                                          | 88/1918 [00:16<05:08,  5.93it/s]"
     ]
    },
    {
     "name": "stdout",
     "output_type": "stream",
     "text": [
      "tensor(12)\n",
      "tensor(9)\n"
     ]
    },
    {
     "name": "stderr",
     "output_type": "stream",
     "text": [
      "Validation epoch: 0:   5%|██▊                                                          | 90/1918 [00:16<05:07,  5.94it/s]"
     ]
    },
    {
     "name": "stdout",
     "output_type": "stream",
     "text": [
      "tensor(11)\n",
      "tensor(0)\n"
     ]
    },
    {
     "name": "stderr",
     "output_type": "stream",
     "text": [
      "Validation epoch: 0:   5%|██▉                                                          | 92/1918 [00:17<06:35,  4.62it/s]"
     ]
    },
    {
     "name": "stdout",
     "output_type": "stream",
     "text": [
      "tensor(0)\n",
      "tensor(0)\n"
     ]
    },
    {
     "name": "stderr",
     "output_type": "stream",
     "text": [
      "Validation epoch: 0:   5%|██▉                                                          | 94/1918 [00:17<05:49,  5.21it/s]"
     ]
    },
    {
     "name": "stdout",
     "output_type": "stream",
     "text": [
      "tensor(0)\n",
      "tensor(0)\n"
     ]
    },
    {
     "name": "stderr",
     "output_type": "stream",
     "text": [
      "Validation epoch: 0:   5%|███                                                          | 96/1918 [00:17<05:28,  5.54it/s]"
     ]
    },
    {
     "name": "stdout",
     "output_type": "stream",
     "text": [
      "tensor(0)\n",
      "tensor(0)\n"
     ]
    },
    {
     "name": "stderr",
     "output_type": "stream",
     "text": [
      "Validation epoch: 0:   5%|███                                                          | 98/1918 [00:18<05:16,  5.75it/s]"
     ]
    },
    {
     "name": "stdout",
     "output_type": "stream",
     "text": [
      "tensor(0)\n",
      "tensor(0)\n"
     ]
    },
    {
     "name": "stderr",
     "output_type": "stream",
     "text": [
      "                                                                                                                         \r"
     ]
    },
    {
     "name": "stdout",
     "output_type": "stream",
     "text": [
      "tensor(0)\n"
     ]
    },
    {
     "name": "stderr",
     "output_type": "stream",
     "text": [
      "[2023-10-15 13:24:23|INFO] - [Average of positives/negatives ratio in batch: 0]\n",
      "                                                                                                                         \n",
      "KeyboardInterrupt\n",
      "\n"
     ]
    }
   ],
   "source": [
    "trainer.validation_epoch(val_loader)"
   ]
  },
  {
   "cell_type": "code",
   "execution_count": 8,
   "id": "40cc7a5a",
   "metadata": {},
   "outputs": [
    {
     "name": "stdout",
     "output_type": "stream",
     "text": [
      "Instantiated training dataset for number of samples: 115394\n",
      "Instantiated validation dataset for number of samples: 30683\n"
     ]
    }
   ],
   "source": [
    "from src.datasets import get_dataloaders\n",
    "from src.datasets.augmentations import get_transforms\n",
    "from src.models.classifier import compute_sampler_condition_labels, predict_probs\n",
    "self = trainer\n",
    "transforms = get_transforms(self.opt.dataset)\n",
    "# compute sampler labels to create batches with uniformly distributed labels\n",
    "params = edict(self.opt.dataset, use_sampler=False, shuffle_test=False)\n",
    "# GAN's train data is expected to be classifier's validation data\n",
    "train_loader, _ = get_dataloaders(params, {'train': transforms['val'], 'val': transforms['train']})\n",
    "# posterior_probs, _ = predict_probs(train_loader, self.model.classifier_f, task='binary' if self.model.n_classes == 1 else 'multiclass')\n",
    "# sampler_labels = compute_sampler_condition_labels(posterior_probs, self.model.explain_class_idx, self.model.num_bins)"
   ]
  },
  {
   "cell_type": "code",
   "execution_count": 19,
   "id": "8b599d15",
   "metadata": {},
   "outputs": [],
   "source": [
    "batch = next(iter(train_loader))"
   ]
  },
  {
   "cell_type": "code",
   "execution_count": 20,
   "id": "3e0f7696",
   "metadata": {},
   "outputs": [
    {
     "data": {
      "text/plain": [
       "torch.Size([16, 1, 256, 256])"
      ]
     },
     "execution_count": 20,
     "metadata": {},
     "output_type": "execute_result"
    }
   ],
   "source": [
    "batch['image'].shape"
   ]
  },
  {
   "cell_type": "code",
   "execution_count": 25,
   "id": "5dd3e357",
   "metadata": {},
   "outputs": [
    {
     "data": {
      "text/plain": [
       "tensor([0, 0, 0, 1, 0, 0, 1, 0, 0, 0, 1, 0, 0, 0, 0, 0])"
      ]
     },
     "execution_count": 25,
     "metadata": {},
     "output_type": "execute_result"
    }
   ],
   "source": [
    "batch['label']"
   ]
  },
  {
   "cell_type": "code",
   "execution_count": 36,
   "id": "0c8b58ee",
   "metadata": {},
   "outputs": [
    {
     "name": "stdout",
     "output_type": "stream",
     "text": [
      "{'empty': 0, 'kidney': 1}\n"
     ]
    },
    {
     "data": {
      "text/plain": [
       "'kidney'"
      ]
     },
     "execution_count": 36,
     "metadata": {},
     "output_type": "execute_result"
    }
   ],
   "source": [
    "class_to_idx = train_loader.dataset.scans[0].class_to_idx\n",
    "print(class_to_idx)\n",
    "train_loader.dataset.scans[0].sampling_class"
   ]
  },
  {
   "cell_type": "code",
   "execution_count": 51,
   "id": "d05c3012",
   "metadata": {},
   "outputs": [],
   "source": [
    "kidney_idxs = np.argwhere(train_loader.dataset.get_sampling_labels())"
   ]
  },
  {
   "cell_type": "code",
   "execution_count": 76,
   "id": "9161b8bc",
   "metadata": {},
   "outputs": [
    {
     "data": {
      "text/plain": [
       "<matplotlib.image.AxesImage at 0x2b667a32b940>"
      ]
     },
     "execution_count": 76,
     "metadata": {},
     "output_type": "execute_result"
    },
    {
     "data": {
      "image/png": "[encoded data removed]",
      "text/plain": [
       "<Figure size 640x480 with 1 Axes>"
      ]
     },
     "metadata": {},
     "output_type": "display_data"
    },
    {
     "data": {
      "image/png": "[encoded data removed]",
      "text/plain": [
       "<Figure size 640x480 with 1 Axes>"
      ]
     },
     "metadata": {},
     "output_type": "display_data"
    },
    {
     "data": {
      "image/png": "[encoded data removed]",
      "text/plain": [
       "<Figure size 640x480 with 1 Axes>"
      ]
     },
     "metadata": {},
     "output_type": "display_data"
    }
   ],
   "source": [
    "from matplotlib import pyplot as plt\n",
    "idx = 3\n",
    "plt.title(batch['label'][idx].item())\n",
    "plt.imshow(batch['image'][idx][0])\n",
    "plt.figure()\n",
    "plt.imshow(batch['masks'][idx][0])\n",
    "plt.figure()\n",
    "\n",
    "batch['image'][idx][0] += 1\n",
    "batch['image'][idx][0] /= 2\n",
    "plt.imshow(batch['image'][idx][0] * batch['masks'][idx][0].bool(), vmin=batch['image'][idx][0].min())"
   ]
  },
  {
   "cell_type": "code",
   "execution_count": 75,
   "id": "58ae85f8",
   "metadata": {},
   "outputs": [
    {
     "data": {
      "text/plain": [
       "tensor([[-1.0000, -1.0000, -1.0000,  ..., -1.0000, -1.0000, -1.0000],\n",
       "        [-1.0000, -1.0000, -1.0000,  ..., -1.0000, -1.0000, -1.0000],\n",
       "        [-1.0000, -1.0000, -1.0000,  ..., -1.0000, -1.0000, -1.0000],\n",
       "        ...,\n",
       "        [-1.0000, -1.0000, -1.0000,  ..., -1.0000, -1.0000, -1.0000],\n",
       "        [-1.0000, -1.0000, -1.0000,  ..., -1.0000, -1.0000, -1.0000],\n",
       "        [-1.0000, -1.0000, -1.0000,  ..., -1.0000, -1.0000, -1.0000]])"
      ]
     },
     "execution_count": 75,
     "metadata": {},
     "output_type": "execute_result"
    }
   ],
   "source": [
    "batch['image'][idx][0]"
   ]
  },
  {
   "cell_type": "code",
   "execution_count": 74,
   "id": "03edea38",
   "metadata": {},
   "outputs": [
    {
     "ename": "RuntimeError",
     "evalue": "\"bitwise_and_cpu\" not implemented for 'Float'",
     "output_type": "error",
     "traceback": [
      "\u001b[0;31m---------------------------------------------------------------------------\u001b[0m",
      "\u001b[0;31mRuntimeError\u001b[0m                              Traceback (most recent call last)",
      "Cell \u001b[0;32mIn[74], line 1\u001b[0m\n\u001b[0;32m----> 1\u001b[0m (\u001b[43mbatch\u001b[49m\u001b[43m[\u001b[49m\u001b[38;5;124;43m'\u001b[39;49m\u001b[38;5;124;43mimage\u001b[39;49m\u001b[38;5;124;43m'\u001b[39;49m\u001b[43m]\u001b[49m\u001b[43m[\u001b[49m\u001b[43midx\u001b[49m\u001b[43m]\u001b[49m\u001b[43m[\u001b[49m\u001b[38;5;241;43m0\u001b[39;49m\u001b[43m]\u001b[49m\u001b[43m \u001b[49m\u001b[38;5;241;43m&\u001b[39;49m\u001b[43m \u001b[49m\u001b[43mbatch\u001b[49m\u001b[43m[\u001b[49m\u001b[38;5;124;43m'\u001b[39;49m\u001b[38;5;124;43mmasks\u001b[39;49m\u001b[38;5;124;43m'\u001b[39;49m\u001b[43m]\u001b[49m\u001b[43m[\u001b[49m\u001b[43midx\u001b[49m\u001b[43m]\u001b[49m\u001b[43m[\u001b[49m\u001b[38;5;241;43m0\u001b[39;49m\u001b[43m]\u001b[49m\u001b[38;5;241;43m.\u001b[39;49m\u001b[43mbool\u001b[49m\u001b[43m(\u001b[49m\u001b[43m)\u001b[49m)\u001b[38;5;241m.\u001b[39mmax()\n",
      "\u001b[0;31mRuntimeError\u001b[0m: \"bitwise_and_cpu\" not implemented for 'Float'"
     ]
    }
   ],
   "source": [
    "(batch['image'][idx][0] & batch['masks'][idx][0].bool()).max()"
   ]
  },
  {
   "cell_type": "code",
   "execution_count": 17,
   "id": "00cbcc55",
   "metadata": {},
   "outputs": [
    {
     "data": {
      "text/plain": [
       "{'train': Compose([\n",
       "   Resize(always_apply=False, p=1, height=256, width=256, interpolation=1),\n",
       "   Normalize(always_apply=False, p=1.0, mean=[0.5], std=[0.5], max_pixel_value=255),\n",
       " ], p=1.0, bbox_params=None, keypoint_params=None, additional_targets={}),\n",
       " 'val': Compose([\n",
       "   Resize(always_apply=False, p=1, height=256, width=256, interpolation=1),\n",
       "   Normalize(always_apply=False, p=1.0, mean=[0.5], std=[0.5], max_pixel_value=255),\n",
       " ], p=1.0, bbox_params=None, keypoint_params=None, additional_targets={})}"
      ]
     },
     "execution_count": 17,
     "metadata": {},
     "output_type": "execute_result"
    }
   ],
   "source": [
    "transforms"
   ]
  },
  {
   "cell_type": "code",
   "execution_count": 81,
   "id": "b3b786ee",
   "metadata": {},
   "outputs": [
    {
     "name": "stdout",
     "output_type": "stream",
     "text": [
      "/gpfs/space/home/dmytrosh/counterfactual-search\r\n"
     ]
    }
   ],
   "source": [
    "!pwd"
   ]
  },
  {
   "cell_type": "code",
   "execution_count": 83,
   "id": "5ae45c9a",
   "metadata": {},
   "outputs": [
    {
     "name": "stdout",
     "output_type": "stream",
     "text": [
      "ls: cannot access training_logs/classification/resnet18-October-14-2023_01+03PM-af13228-tsm_synth_r18/checkpoints/checkpoint_55.pt: No such file or directory\r\n"
     ]
    }
   ],
   "source": [
    "!ls training_logs/classification/resnet18-October-14-2023_01+03PM-af13228-tsm_synth_r18/checkpoints/checkpoint_55.pt"
   ]
  },
  {
   "cell_type": "code",
   "execution_count": 98,
   "id": "df4c16b9",
   "metadata": {},
   "outputs": [
    {
     "name": "stderr",
     "output_type": "stream",
     "text": [
      "/gpfs/space/home/dmytrosh/counterfactual-search/venv/lib/python3.9/site-packages/torchvision/models/_utils.py:208: UserWarning: The parameter 'pretrained' is deprecated since 0.13 and may be removed in the future, please use 'weights' instead.\n",
      "  warnings.warn(\n",
      "/gpfs/space/home/dmytrosh/counterfactual-search/venv/lib/python3.9/site-packages/torchvision/models/_utils.py:223: UserWarning: Arguments other than a weight enum or `None` for 'weights' are deprecated since 0.13 and may be removed in the future. The current behavior is equivalent to passing `weights=None`.\n",
      "  warnings.warn(msg)\n",
      "[2023-10-15 12:13:54|INFO] - ================ Session (Sun Oct 15 12:13:54 2023) ================\n",
      "[2023-10-15 12:13:54|INFO] - Logging directory: training_logs/classification/resnet18-October-14-2023_01+03PM-af13228-tsm_synth_r18\n",
      "[2023-10-15 12:13:54|INFO] - Restored checkpoint training_logs/classification/resnet18-October-14-2023_01+03PM-af13228-tsm_synth_r18/checkpoints/checkpoint_55.pth (October 14, 2023)\n",
      "[2023-10-15 12:13:54|INFO] - Using model: ClassificationModel\n"
     ]
    }
   ],
   "source": [
    "from pathlib import Path\n",
    "clf_config = 'configs/classification/resnet18_tsm_synthetic.yaml'\n",
    "with open(clf_config) as fid:\n",
    "    copt = yaml.safe_load(fid)\n",
    "    copt = edict(copt)\n",
    "seed_everything(copt.seed)\n",
    "\n",
    "cmodel = build_model(copt.task_name, opt=copt.model, img_size=copt.dataset.img_size)\n",
    "ctrainer = build_trainer(copt.task_name, copt, cmodel, continue_path=Path(opt.model.classifier_ckpt).parent.parent)"
   ]
  },
  {
   "cell_type": "code",
   "execution_count": 99,
   "id": "6b6f6eee",
   "metadata": {},
   "outputs": [
    {
     "name": "stdout",
     "output_type": "stream",
     "text": [
      "Instantiated training dataset for number of samples: 115394\n",
      "Instantiated validation dataset for number of samples: 30683\n"
     ]
    },
    {
     "name": "stderr",
     "output_type": "stream",
     "text": [
      "[2023-10-15 12:14:13|INFO] - [Finished validation epoch 55/1000] [Epoch loss: 0.075510] [Epoch F1 score: 0.950345]       \n"
     ]
    },
    {
     "data": {
      "text/plain": [
       "{'loss': tensor(0.0755),\n",
       " 'BinaryPrecision': tensor(0.9636, device='cuda:0'),\n",
       " 'BinaryRecall': tensor(0.9374, device='cuda:0'),\n",
       " 'BinaryF1Score': tensor(0.9503, device='cuda:0')}"
      ]
     },
     "execution_count": 99,
     "metadata": {},
     "output_type": "execute_result"
    }
   ],
   "source": [
    "cloaders = ctrainer.get_dataloaders()\n",
    "ctrainer.validation_epoch(cloaders[1])"
   ]
  },
  {
   "cell_type": "code",
   "execution_count": 100,
   "id": "2e7ee46a",
   "metadata": {},
   "outputs": [
    {
     "name": "stderr",
     "output_type": "stream",
     "text": [
      "Exception ignored in: <function Logger.__del__ at 0x2b66aac3f550>\n",
      "Traceback (most recent call last):\n",
      "  File \"/gpfs/space/home/dmytrosh/counterfactual-search/src/logger.py\", line 35, in __del__\n",
      "AttributeError: 'Logger' object has no attribute 'writer'\n"
     ]
    },
    {
     "name": "stdout",
     "output_type": "stream",
     "text": [
      "Instantiated training dataset for number of samples: 115394\n",
      "Instantiated validation dataset for number of samples: 30683\n"
     ]
    },
    {
     "name": "stderr",
     "output_type": "stream",
     "text": [
      "[2023-10-15 12:14:47|INFO] - [Finished validation epoch 55/1000] [Epoch loss: 0.076116] [Epoch F1 score: 0.949947]       \n"
     ]
    },
    {
     "data": {
      "text/plain": [
       "{'loss': tensor(0.0761),\n",
       " 'BinaryPrecision': tensor(0.9634, device='cuda:0'),\n",
       " 'BinaryRecall': tensor(0.9369, device='cuda:0'),\n",
       " 'BinaryF1Score': tensor(0.9499, device='cuda:0')}"
      ]
     },
     "execution_count": 100,
     "metadata": {},
     "output_type": "execute_result"
    }
   ],
   "source": [
    "cloaders = ctrainer.get_dataloaders()\n",
    "ctrainer.validation_epoch(cloaders[1])"
   ]
  },
  {
   "cell_type": "code",
   "execution_count": 90,
   "id": "f964e0d9",
   "metadata": {},
   "outputs": [
    {
     "data": {
      "text/plain": [
       "True"
      ]
     },
     "execution_count": 90,
     "metadata": {},
     "output_type": "execute_result"
    }
   ],
   "source": [
    "torch.allclose(next(model.classifier_f.parameters()), next(cmodel.model.parameters()))"
   ]
  },
  {
   "cell_type": "code",
   "execution_count": 114,
   "id": "cc75fd42",
   "metadata": {},
   "outputs": [
    {
     "data": {
      "text/plain": [
       "Compose([\n",
       "  Resize(always_apply=False, p=1, height=256, width=256, interpolation=1),\n",
       "  Normalize(always_apply=False, p=1.0, mean=[0.5], std=[0.5], max_pixel_value=255),\n",
       "], p=1.0, bbox_params=None, keypoint_params=None, additional_targets={})"
      ]
     },
     "execution_count": 114,
     "metadata": {},
     "output_type": "execute_result"
    }
   ],
   "source": [
    "train_loader.dataset.scans[0].transforms"
   ]
  },
  {
   "cell_type": "code",
   "execution_count": 133,
   "id": "ecca31f5",
   "metadata": {},
   "outputs": [
    {
     "name": "stderr",
     "output_type": "stream",
     "text": [
      "[2023-10-15 13:13:42|INFO] - [Average of positives/negatives ratio in batch: 0]                                          \n"
     ]
    },
    {
     "ename": "AttributeError",
     "evalue": "'EasyDict' object has no attribute 'eval_counter_freq'",
     "output_type": "error",
     "traceback": [
      "\u001b[0;31m---------------------------------------------------------------------------\u001b[0m",
      "\u001b[0;31mAttributeError\u001b[0m                            Traceback (most recent call last)",
      "Cell \u001b[0;32mIn[133], line 1\u001b[0m\n\u001b[0;32m----> 1\u001b[0m \u001b[43mtrainer\u001b[49m\u001b[38;5;241;43m.\u001b[39;49m\u001b[43mvalidation_epoch\u001b[49m\u001b[43m(\u001b[49m\u001b[43mval_loader\u001b[49m\u001b[43m)\u001b[49m\n",
      "File \u001b[0;32m~/counterfactual-search/venv/lib/python3.9/site-packages/torch/utils/_contextlib.py:115\u001b[0m, in \u001b[0;36mcontext_decorator.<locals>.decorate_context\u001b[0;34m(*args, **kwargs)\u001b[0m\n\u001b[1;32m    112\u001b[0m \u001b[38;5;129m@functools\u001b[39m\u001b[38;5;241m.\u001b[39mwraps(func)\n\u001b[1;32m    113\u001b[0m \u001b[38;5;28;01mdef\u001b[39;00m \u001b[38;5;21mdecorate_context\u001b[39m(\u001b[38;5;241m*\u001b[39margs, \u001b[38;5;241m*\u001b[39m\u001b[38;5;241m*\u001b[39mkwargs):\n\u001b[1;32m    114\u001b[0m     \u001b[38;5;28;01mwith\u001b[39;00m ctx_factory():\n\u001b[0;32m--> 115\u001b[0m         \u001b[38;5;28;01mreturn\u001b[39;00m \u001b[43mfunc\u001b[49m\u001b[43m(\u001b[49m\u001b[38;5;241;43m*\u001b[39;49m\u001b[43margs\u001b[49m\u001b[43m,\u001b[49m\u001b[43m \u001b[49m\u001b[38;5;241;43m*\u001b[39;49m\u001b[38;5;241;43m*\u001b[39;49m\u001b[43mkwargs\u001b[49m\u001b[43m)\u001b[49m\n",
      "File \u001b[0;32m~/counterfactual-search/src/trainers/counterfactual.py:104\u001b[0m, in \u001b[0;36mCounterfactualTrainer.validation_epoch\u001b[0;34m(self, loader)\u001b[0m\n\u001b[1;32m    102\u001b[0m \u001b[38;5;28mself\u001b[39m\u001b[38;5;241m.\u001b[39mlogger\u001b[38;5;241m.\u001b[39minfo(\u001b[38;5;124m'\u001b[39m\u001b[38;5;124m[Average of positives/negatives ratio in batch: \u001b[39m\u001b[38;5;132;01m%d\u001b[39;00m\u001b[38;5;124m]\u001b[39m\u001b[38;5;124m'\u001b[39m \u001b[38;5;241m%\u001b[39m \u001b[38;5;28mround\u001b[39m(avg_pos_to_neg_ratio\u001b[38;5;241m.\u001b[39mitem() \u001b[38;5;241m/\u001b[39m \u001b[38;5;28mlen\u001b[39m(loader), \u001b[38;5;241m3\u001b[39m))\n\u001b[1;32m    103\u001b[0m epoch_stats \u001b[38;5;241m=\u001b[39m stats\u001b[38;5;241m.\u001b[39maverage()\n\u001b[0;32m--> 104\u001b[0m \u001b[38;5;28;01mif\u001b[39;00m \u001b[38;5;28mself\u001b[39m\u001b[38;5;241m.\u001b[39mcurrent_epoch \u001b[38;5;241m%\u001b[39m \u001b[38;5;28;43mself\u001b[39;49m\u001b[38;5;241;43m.\u001b[39;49m\u001b[43mopt\u001b[49m\u001b[38;5;241;43m.\u001b[39;49m\u001b[43meval_counter_freq\u001b[49m \u001b[38;5;241m==\u001b[39m \u001b[38;5;241m0\u001b[39m:\n\u001b[1;32m    105\u001b[0m     epoch_stats[\u001b[38;5;124m'\u001b[39m\u001b[38;5;124mcounter_acc\u001b[39m\u001b[38;5;124m'\u001b[39m], epoch_stats[\u001b[38;5;124m'\u001b[39m\u001b[38;5;124mcv_80\u001b[39m\u001b[38;5;124m'\u001b[39m] \u001b[38;5;241m=\u001b[39m \u001b[38;5;28mself\u001b[39m\u001b[38;5;241m.\u001b[39mevaluate_counterfactual(loader)\n\u001b[1;32m    106\u001b[0m \u001b[38;5;28mself\u001b[39m\u001b[38;5;241m.\u001b[39mlogger\u001b[38;5;241m.\u001b[39mlog(epoch_stats, \u001b[38;5;28mself\u001b[39m\u001b[38;5;241m.\u001b[39mcurrent_epoch, \u001b[38;5;124m'\u001b[39m\u001b[38;5;124mval\u001b[39m\u001b[38;5;124m'\u001b[39m)\n",
      "\u001b[0;31mAttributeError\u001b[0m: 'EasyDict' object has no attribute 'eval_counter_freq'"
     ]
    }
   ],
   "source": [
    "trainer.validation_epoch(val_loader)"
   ]
  },
  {
   "cell_type": "code",
   "execution_count": 9,
   "id": "231a0fef",
   "metadata": {},
   "outputs": [
    {
     "name": "stderr",
     "output_type": "stream",
     "text": [
      "Precomputing posterior probabilities: 100%|██████████████████████████████████| 7213/7213 [02:13<00:00, 53.88it/s]\n"
     ]
    }
   ],
   "source": [
    "posterior_probs, _ = predict_probs(train_loader, self.model.classifier_f, task='binary' if self.model.n_classes == 1 else 'multiclass')\n",
    "# sampler_labels = compute_sampler_condition_labels(posterior_probs, self.model.explain_class_idx, self.model.num_bins)"
   ]
  },
  {
   "cell_type": "code",
   "execution_count": 12,
   "id": "74f8ce99",
   "metadata": {},
   "outputs": [
    {
     "name": "stdout",
     "output_type": "stream",
     "text": [
      "Collecting seaborn\n",
      "  Downloading seaborn-0.13.0-py3-none-any.whl (294 kB)\n",
      "\u001b[2K     \u001b[38;2;114;156;31m━━━━━━━━━━━━━━━━━━━━━━━━━━━━━━━━━━━━━━━\u001b[0m \u001b[32m294.6/294.6 kB\u001b[0m \u001b[31m1.8 MB/s\u001b[0m eta \u001b[36m0:00:00\u001b[0m[31m3.4 MB/s\u001b[0m eta \u001b[36m0:00:01\u001b[0m\n",
      "\u001b[?25hRequirement already satisfied: numpy!=1.24.0,>=1.20 in ./venv/lib/python3.9/site-packages (from seaborn) (1.24.3)\n",
      "Requirement already satisfied: pandas>=1.2 in ./venv/lib/python3.9/site-packages (from seaborn) (2.0.1)\n",
      "Requirement already satisfied: matplotlib!=3.6.1,>=3.3 in ./venv/lib/python3.9/site-packages (from seaborn) (3.7.1)\n",
      "Requirement already satisfied: contourpy>=1.0.1 in ./venv/lib/python3.9/site-packages (from matplotlib!=3.6.1,>=3.3->seaborn) (1.0.7)\n",
      "Requirement already satisfied: cycler>=0.10 in ./venv/lib/python3.9/site-packages (from matplotlib!=3.6.1,>=3.3->seaborn) (0.11.0)\n",
      "Requirement already satisfied: fonttools>=4.22.0 in ./venv/lib/python3.9/site-packages (from matplotlib!=3.6.1,>=3.3->seaborn) (4.39.3)\n",
      "Requirement already satisfied: kiwisolver>=1.0.1 in ./venv/lib/python3.9/site-packages (from matplotlib!=3.6.1,>=3.3->seaborn) (1.4.4)\n",
      "Requirement already satisfied: packaging>=20.0 in ./venv/lib/python3.9/site-packages (from matplotlib!=3.6.1,>=3.3->seaborn) (23.1)\n",
      "Requirement already satisfied: pillow>=6.2.0 in ./venv/lib/python3.9/site-packages (from matplotlib!=3.6.1,>=3.3->seaborn) (9.5.0)\n",
      "Requirement already satisfied: pyparsing>=2.3.1 in ./venv/lib/python3.9/site-packages (from matplotlib!=3.6.1,>=3.3->seaborn) (3.0.9)\n",
      "Requirement already satisfied: python-dateutil>=2.7 in ./venv/lib/python3.9/site-packages (from matplotlib!=3.6.1,>=3.3->seaborn) (2.8.2)\n",
      "Requirement already satisfied: importlib-resources>=3.2.0 in ./venv/lib/python3.9/site-packages (from matplotlib!=3.6.1,>=3.3->seaborn) (5.12.0)\n",
      "Requirement already satisfied: pytz>=2020.1 in ./venv/lib/python3.9/site-packages (from pandas>=1.2->seaborn) (2023.3)\n",
      "Requirement already satisfied: tzdata>=2022.1 in ./venv/lib/python3.9/site-packages (from pandas>=1.2->seaborn) (2023.3)\n",
      "Requirement already satisfied: zipp>=3.1.0 in ./venv/lib/python3.9/site-packages (from importlib-resources>=3.2.0->matplotlib!=3.6.1,>=3.3->seaborn) (3.15.0)\n",
      "Requirement already satisfied: six>=1.5 in ./venv/lib/python3.9/site-packages (from python-dateutil>=2.7->matplotlib!=3.6.1,>=3.3->seaborn) (1.16.0)\n",
      "Installing collected packages: seaborn\n",
      "Successfully installed seaborn-0.13.0\n",
      "\n",
      "\u001b[1m[\u001b[0m\u001b[34;49mnotice\u001b[0m\u001b[1;39;49m]\u001b[0m\u001b[39;49m A new release of pip is available: \u001b[0m\u001b[31;49m23.1.2\u001b[0m\u001b[39;49m -> \u001b[0m\u001b[32;49m23.2.1\u001b[0m\n",
      "\u001b[1m[\u001b[0m\u001b[34;49mnotice\u001b[0m\u001b[1;39;49m]\u001b[0m\u001b[39;49m To update, run: \u001b[0m\u001b[32;49mpip install --upgrade pip\u001b[0m\n"
     ]
    }
   ],
   "source": [
    "!pip install seaborn\n"
   ]
  },
  {
   "cell_type": "code",
   "execution_count": 22,
   "id": "96cbab17",
   "metadata": {},
   "outputs": [
    {
     "data": {
      "text/plain": [
       "19036"
      ]
     },
     "execution_count": 22,
     "metadata": {},
     "output_type": "execute_result"
    }
   ],
   "source": [
    "(np.array(posterior_probs) > 0.5).sum()"
   ]
  },
  {
   "cell_type": "code",
   "execution_count": 14,
   "id": "69e29c1b",
   "metadata": {},
   "outputs": [
    {
     "data": {
      "text/plain": [
       "95103"
      ]
     },
     "execution_count": 14,
     "metadata": {},
     "output_type": "execute_result"
    }
   ],
   "source": [
    "(np.array(posterior_probs) < 0.05).sum()"
   ]
  },
  {
   "cell_type": "code",
   "execution_count": 20,
   "id": "1915d893",
   "metadata": {},
   "outputs": [
    {
     "data": {
      "text/plain": [
       "18701"
      ]
     },
     "execution_count": 20,
     "metadata": {},
     "output_type": "execute_result"
    }
   ],
   "source": [
    "(np.array(posterior_probs) > 0.7).sum()"
   ]
  },
  {
   "cell_type": "code",
   "execution_count": 11,
   "id": "a4680b14",
   "metadata": {},
   "outputs": [
    {
     "data": {
      "text/plain": [
       "0.36431053"
      ]
     },
     "execution_count": 11,
     "metadata": {},
     "output_type": "execute_result"
    }
   ],
   "source": [
    "np.array(posterior_probs).std()"
   ]
  },
  {
   "cell_type": "code",
   "execution_count": 10,
   "id": "013cff3a",
   "metadata": {},
   "outputs": [
    {
     "data": {
      "text/plain": [
       "1.0"
      ]
     },
     "execution_count": 10,
     "metadata": {},
     "output_type": "execute_result"
    }
   ],
   "source": [
    "np.array(posterior_probs).reshape(-1).max()"
   ]
  },
  {
   "cell_type": "code",
   "execution_count": 105,
   "id": "b1b61c00",
   "metadata": {},
   "outputs": [
    {
     "name": "stderr",
     "output_type": "stream",
     "text": [
      "\n",
      "KeyboardInterrupt\n",
      "\n"
     ]
    },
    {
     "name": "stdout",
     "output_type": "stream",
     "text": [
      "Error in callback <function _draw_all_if_interactive at 0x2b66509a4790> (for post_execute):\n"
     ]
    },
    {
     "name": "stderr",
     "output_type": "stream",
     "text": [
      "\n",
      "KeyboardInterrupt\n",
      "\n"
     ]
    },
    {
     "name": "stdout",
     "output_type": "stream",
     "text": [
      "Error in callback <function flush_figures at 0x2b66b5ea1ee0> (for post_execute):\n"
     ]
    },
    {
     "name": "stderr",
     "output_type": "stream",
     "text": [
      "\n",
      "KeyboardInterrupt\n",
      "\n"
     ]
    }
   ],
   "source": [
    "plt.hist(posterior_probs)"
   ]
  },
  {
   "cell_type": "code",
   "execution_count": null,
   "id": "c4cc2f6d",
   "metadata": {},
   "outputs": [],
   "source": []
  },
  {
   "cell_type": "code",
   "execution_count": null,
   "id": "cd48377e",
   "metadata": {},
   "outputs": [],
   "source": []
  }
 ],
 "metadata": {
  "kernelspec": {
   "display_name": "Python 3 (ipykernel)",
   "language": "python",
   "name": "python3"
  },
  "language_info": {
   "codemirror_mode": {
    "name": "ipython",
    "version": 3
   },
   "file_extension": ".py",
   "mimetype": "text/x-python",
   "name": "python",
   "nbconvert_exporter": "python",
   "pygments_lexer": "ipython3",
   "version": "3.9.12"
  }
 },
 "nbformat": 4,
 "nbformat_minor": 5
}
